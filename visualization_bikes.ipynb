{
 "cells": [
  {
   "cell_type": "code",
   "execution_count": 2,
   "id": "133da519-45d0-4c5f-a5ee-908f8aa4708d",
   "metadata": {},
   "outputs": [],
   "source": [
    "from pathlib import Path\n",
    "\n",
    "import numpy as np\n",
    "import pandas as pd\n",
    "import matplotlib.pyplot as plt\n",
    "import holidays\n",
    "\n",
    "from sklearn.preprocessing import FunctionTransformer\n",
    "from sklearn.preprocessing import OneHotEncoder\n",
    "from sklearn.preprocessing import StandardScaler\n",
    "from sklearn.pipeline import make_pipeline\n",
    "from sklearn.compose import ColumnTransformer\n",
    "from sklearn.linear_model import Ridge, LinearRegression\n",
    "from sklearn.ensemble import RandomForestRegressor\n",
    "from sklearn.ensemble import GradientBoostingRegressor\n",
    "from sklearn.model_selection import TimeSeriesSplit, cross_val_score\n",
    "from sklearn.metrics import mean_squared_error\n",
    "\n",
    "from xgboost import XGBRegressor"
   ]
  },
  {
   "cell_type": "code",
   "execution_count": 3,
   "id": "f789775e-1c75-4708-acb9-cfc731959cfb",
   "metadata": {},
   "outputs": [],
   "source": [
    "data = pd.read_parquet(Path(\"data\") / \"train.parquet\")"
   ]
  },
  {
   "cell_type": "code",
   "execution_count": 4,
   "id": "a11945cf-9077-42b6-a9f1-ed47f25cd9d8",
   "metadata": {},
   "outputs": [
    {
     "data": {
      "text/html": [
       "<div>\n",
       "<style scoped>\n",
       "    .dataframe tbody tr th:only-of-type {\n",
       "        vertical-align: middle;\n",
       "    }\n",
       "\n",
       "    .dataframe tbody tr th {\n",
       "        vertical-align: top;\n",
       "    }\n",
       "\n",
       "    .dataframe thead th {\n",
       "        text-align: right;\n",
       "    }\n",
       "</style>\n",
       "<table border=\"1\" class=\"dataframe\">\n",
       "  <thead>\n",
       "    <tr style=\"text-align: right;\">\n",
       "      <th></th>\n",
       "      <th>counter_id</th>\n",
       "      <th>counter_name</th>\n",
       "      <th>site_id</th>\n",
       "      <th>site_name</th>\n",
       "      <th>bike_count</th>\n",
       "      <th>date</th>\n",
       "      <th>counter_installation_date</th>\n",
       "      <th>counter_technical_id</th>\n",
       "      <th>latitude</th>\n",
       "      <th>longitude</th>\n",
       "      <th>log_bike_count</th>\n",
       "    </tr>\n",
       "  </thead>\n",
       "  <tbody>\n",
       "    <tr>\n",
       "      <th>48321</th>\n",
       "      <td>100007049-102007049</td>\n",
       "      <td>28 boulevard Diderot E-O</td>\n",
       "      <td>100007049</td>\n",
       "      <td>28 boulevard Diderot</td>\n",
       "      <td>0.0</td>\n",
       "      <td>2020-09-01 02:00:00</td>\n",
       "      <td>2013-01-18</td>\n",
       "      <td>Y2H15027244</td>\n",
       "      <td>48.846028</td>\n",
       "      <td>2.375429</td>\n",
       "      <td>0.000000</td>\n",
       "    </tr>\n",
       "    <tr>\n",
       "      <th>48324</th>\n",
       "      <td>100007049-102007049</td>\n",
       "      <td>28 boulevard Diderot E-O</td>\n",
       "      <td>100007049</td>\n",
       "      <td>28 boulevard Diderot</td>\n",
       "      <td>1.0</td>\n",
       "      <td>2020-09-01 03:00:00</td>\n",
       "      <td>2013-01-18</td>\n",
       "      <td>Y2H15027244</td>\n",
       "      <td>48.846028</td>\n",
       "      <td>2.375429</td>\n",
       "      <td>0.693147</td>\n",
       "    </tr>\n",
       "    <tr>\n",
       "      <th>48327</th>\n",
       "      <td>100007049-102007049</td>\n",
       "      <td>28 boulevard Diderot E-O</td>\n",
       "      <td>100007049</td>\n",
       "      <td>28 boulevard Diderot</td>\n",
       "      <td>0.0</td>\n",
       "      <td>2020-09-01 04:00:00</td>\n",
       "      <td>2013-01-18</td>\n",
       "      <td>Y2H15027244</td>\n",
       "      <td>48.846028</td>\n",
       "      <td>2.375429</td>\n",
       "      <td>0.000000</td>\n",
       "    </tr>\n",
       "    <tr>\n",
       "      <th>48330</th>\n",
       "      <td>100007049-102007049</td>\n",
       "      <td>28 boulevard Diderot E-O</td>\n",
       "      <td>100007049</td>\n",
       "      <td>28 boulevard Diderot</td>\n",
       "      <td>4.0</td>\n",
       "      <td>2020-09-01 15:00:00</td>\n",
       "      <td>2013-01-18</td>\n",
       "      <td>Y2H15027244</td>\n",
       "      <td>48.846028</td>\n",
       "      <td>2.375429</td>\n",
       "      <td>1.609438</td>\n",
       "    </tr>\n",
       "    <tr>\n",
       "      <th>48333</th>\n",
       "      <td>100007049-102007049</td>\n",
       "      <td>28 boulevard Diderot E-O</td>\n",
       "      <td>100007049</td>\n",
       "      <td>28 boulevard Diderot</td>\n",
       "      <td>9.0</td>\n",
       "      <td>2020-09-01 18:00:00</td>\n",
       "      <td>2013-01-18</td>\n",
       "      <td>Y2H15027244</td>\n",
       "      <td>48.846028</td>\n",
       "      <td>2.375429</td>\n",
       "      <td>2.302585</td>\n",
       "    </tr>\n",
       "  </tbody>\n",
       "</table>\n",
       "</div>"
      ],
      "text/plain": [
       "                counter_id              counter_name    site_id  \\\n",
       "48321  100007049-102007049  28 boulevard Diderot E-O  100007049   \n",
       "48324  100007049-102007049  28 boulevard Diderot E-O  100007049   \n",
       "48327  100007049-102007049  28 boulevard Diderot E-O  100007049   \n",
       "48330  100007049-102007049  28 boulevard Diderot E-O  100007049   \n",
       "48333  100007049-102007049  28 boulevard Diderot E-O  100007049   \n",
       "\n",
       "                  site_name  bike_count                date  \\\n",
       "48321  28 boulevard Diderot         0.0 2020-09-01 02:00:00   \n",
       "48324  28 boulevard Diderot         1.0 2020-09-01 03:00:00   \n",
       "48327  28 boulevard Diderot         0.0 2020-09-01 04:00:00   \n",
       "48330  28 boulevard Diderot         4.0 2020-09-01 15:00:00   \n",
       "48333  28 boulevard Diderot         9.0 2020-09-01 18:00:00   \n",
       "\n",
       "      counter_installation_date counter_technical_id   latitude  longitude  \\\n",
       "48321                2013-01-18          Y2H15027244  48.846028   2.375429   \n",
       "48324                2013-01-18          Y2H15027244  48.846028   2.375429   \n",
       "48327                2013-01-18          Y2H15027244  48.846028   2.375429   \n",
       "48330                2013-01-18          Y2H15027244  48.846028   2.375429   \n",
       "48333                2013-01-18          Y2H15027244  48.846028   2.375429   \n",
       "\n",
       "       log_bike_count  \n",
       "48321        0.000000  \n",
       "48324        0.693147  \n",
       "48327        0.000000  \n",
       "48330        1.609438  \n",
       "48333        2.302585  "
      ]
     },
     "execution_count": 4,
     "metadata": {},
     "output_type": "execute_result"
    }
   ],
   "source": [
    "data.head()"
   ]
  },
  {
   "cell_type": "code",
   "execution_count": 5,
   "id": "610d73bc-897c-4b73-8131-6a7aa9dc2243",
   "metadata": {},
   "outputs": [
    {
     "name": "stdout",
     "output_type": "stream",
     "text": [
      "<class 'pandas.core.frame.DataFrame'>\n",
      "Index: 455163 entries, 48321 to 928462\n",
      "Data columns (total 11 columns):\n",
      " #   Column                     Non-Null Count   Dtype         \n",
      "---  ------                     --------------   -----         \n",
      " 0   counter_id                 455163 non-null  category      \n",
      " 1   counter_name               455163 non-null  category      \n",
      " 2   site_id                    455163 non-null  int64         \n",
      " 3   site_name                  455163 non-null  category      \n",
      " 4   bike_count                 455163 non-null  float64       \n",
      " 5   date                       455163 non-null  datetime64[us]\n",
      " 6   counter_installation_date  455163 non-null  datetime64[us]\n",
      " 7   counter_technical_id       455163 non-null  category      \n",
      " 8   latitude                   455163 non-null  float64       \n",
      " 9   longitude                  455163 non-null  float64       \n",
      " 10  log_bike_count             455163 non-null  float64       \n",
      "dtypes: category(4), datetime64[us](2), float64(4), int64(1)\n",
      "memory usage: 29.5 MB\n"
     ]
    }
   ],
   "source": [
    "data.info()"
   ]
  },
  {
   "cell_type": "code",
   "execution_count": 6,
   "id": "42c4efa7-da3d-49f7-bb70-a36e7f78d15b",
   "metadata": {},
   "outputs": [
    {
     "data": {
      "text/plain": [
       "counter_id                     56\n",
       "counter_name                   56\n",
       "site_id                        30\n",
       "site_name                      30\n",
       "bike_count                    977\n",
       "date                         8230\n",
       "counter_installation_date      22\n",
       "counter_technical_id           30\n",
       "latitude                       30\n",
       "longitude                      30\n",
       "log_bike_count                977\n",
       "dtype: int64"
      ]
     },
     "execution_count": 6,
     "metadata": {},
     "output_type": "execute_result"
    }
   ],
   "source": [
    "data.nunique(axis=0)"
   ]
  },
  {
   "cell_type": "code",
   "execution_count": 7,
   "id": "c5258e62-6607-49aa-a4d5-af4f62d270d8",
   "metadata": {},
   "outputs": [
    {
     "name": "stdout",
     "output_type": "stream",
     "text": [
      "All 'counter_id' values have the same corresponding 'counter_name'.\n"
     ]
    }
   ],
   "source": [
    "# Check whether counter_ids are similar to counter_name in terms of information\n",
    "counter_unique_names = data.groupby('counter_id', observed=False)['counter_name'].nunique()\n",
    "\n",
    "inconsistent_entries = counter_unique_names[counter_unique_names > 1]\n",
    "\n",
    "if inconsistent_entries.empty:\n",
    "    print(\"All 'counter_id' values have the same corresponding 'counter_name'.\")\n",
    "else:\n",
    "    print(\"There are inconsistent entries between 'counter_id' and 'counter_name'.\")\n",
    "    print(inconsistent_entries)"
   ]
  },
  {
   "cell_type": "code",
   "execution_count": 8,
   "id": "416e05a4-c3f1-43a1-b404-45757b7f7269",
   "metadata": {},
   "outputs": [
    {
     "name": "stdout",
     "output_type": "stream",
     "text": [
      "All 'site_id' values have the same corresponding 'site_name'.\n"
     ]
    }
   ],
   "source": [
    "# Do the same thing with site_ids and site_names\n",
    "site_unique_names = data.groupby('site_id', observed=False)['site_name'].nunique()\n",
    "\n",
    "inconsistent_entries = site_unique_names[site_unique_names > 1]\n",
    "\n",
    "if inconsistent_entries.empty:\n",
    "    print(\"All 'site_id' values have the same corresponding 'site_name'.\")\n",
    "else:\n",
    "    print(\"There are inconsistent entries between 'site_id' and 'site_name'.\")\n",
    "    print(inconsistent_entries)"
   ]
  },
  {
   "cell_type": "code",
   "execution_count": 9,
   "id": "83615a17-88dd-49eb-abd6-82dd3e72cb81",
   "metadata": {},
   "outputs": [
    {
     "name": "stdout",
     "output_type": "stream",
     "text": [
      "All 'site_id' values have the same corresponding 'counter_technical_id''.\n"
     ]
    }
   ],
   "source": [
    "counter_unique_names = data.groupby('site_id', observed=False)['counter_technical_id'].nunique()\n",
    "\n",
    "inconsistent_entries = counter_unique_names[counter_unique_names > 1]\n",
    "\n",
    "if inconsistent_entries.empty:\n",
    "    print(\"All 'site_id' values have the same corresponding 'counter_technical_id''.\")\n",
    "else:\n",
    "    print(\"There are inconsistent entries between 'site_id' and 'counter_technical_id''.\")\n",
    "    print(inconsistent_entries)"
   ]
  },
  {
   "cell_type": "markdown",
   "id": "c812b6f1-08f6-4a38-bde8-c3795c1c9d71",
   "metadata": {},
   "source": [
    "What we learned from this is that there are two columns which are redundant in this dataset. The `counter_id` and the `counter_name` are two and the same thing, and similarly for `site_id` and `site_name`. However, intuitively, the same thing could have been said about the `counter_technical_id` and the rest of the column counter identifications; but what this analysis has shown us is that the `counter_technical_id` is something different, which we should treat as such."
   ]
  },
  {
   "cell_type": "code",
   "execution_count": 10,
   "id": "bedb3576-4d15-4454-b6c1-96db99027664",
   "metadata": {},
   "outputs": [],
   "source": [
    "fr_holidays = holidays.FR()"
   ]
  },
  {
   "cell_type": "code",
   "execution_count": 11,
   "id": "a6680ad2-261a-4b6d-b6ad-17e06ce803d9",
   "metadata": {},
   "outputs": [],
   "source": [
    "def time_of_day(hour):\n",
    "    if hour > 3 and hour <= 6:\n",
    "        return 0\n",
    "    elif hour > 6 and hour <= 10:\n",
    "        return 1\n",
    "    elif hour > 10 and hour <= 13:\n",
    "        return 2\n",
    "    elif hour > 13 and hour <= 17:\n",
    "        return 3\n",
    "    elif hour > 17 and hour <= 22:\n",
    "        return 4\n",
    "    return 5"
   ]
  },
  {
   "cell_type": "code",
   "execution_count": 12,
   "id": "89e8b5b1-98d9-41d2-a976-b7c587fc7860",
   "metadata": {},
   "outputs": [],
   "source": [
    "def _encode_dates(X):\n",
    "    X = X.copy()  # modify a copy of X\n",
    "    # Encode the date information from the DateOfDeparture columns\n",
    "    X.loc[:, \"year\"] = X[\"date\"].dt.year\n",
    "    X.loc[:, \"month\"] = X[\"date\"].dt.month\n",
    "    X.loc[:, \"day\"] = X[\"date\"].dt.day\n",
    "    X.loc[:, \"weekday\"] = X[\"date\"].dt.weekday\n",
    "    X.loc[:, \"hour\"] = X[\"date\"].dt.hour\n",
    "    # X.loc[:, \"bank_holiday\"] = X[\"date\"].apply(lambda x: 1 if x in fr_holidays else 0)\n",
    "    # X.loc[:, \"week-end\"] = X[\"weekday\"].apply(lambda x: 1 if x in [5, 6] else 0)\n",
    "    # X.loc[:, \"time_of_day\"] = X[\"hour\"].apply(lambda x: time_of_day(x))\n",
    "\n",
    "    # Finally we can drop the original columns from the dataframe\n",
    "    return X.drop(columns=[\"date\"])"
   ]
  },
  {
   "cell_type": "code",
   "execution_count": 13,
   "id": "6523786a-50ac-4890-af52-8bbd4c93d1cf",
   "metadata": {},
   "outputs": [
    {
     "data": {
      "text/html": [
       "<div>\n",
       "<style scoped>\n",
       "    .dataframe tbody tr th:only-of-type {\n",
       "        vertical-align: middle;\n",
       "    }\n",
       "\n",
       "    .dataframe tbody tr th {\n",
       "        vertical-align: top;\n",
       "    }\n",
       "\n",
       "    .dataframe thead th {\n",
       "        text-align: right;\n",
       "    }\n",
       "</style>\n",
       "<table border=\"1\" class=\"dataframe\">\n",
       "  <thead>\n",
       "    <tr style=\"text-align: right;\">\n",
       "      <th></th>\n",
       "      <th>year</th>\n",
       "      <th>month</th>\n",
       "      <th>day</th>\n",
       "      <th>weekday</th>\n",
       "      <th>hour</th>\n",
       "    </tr>\n",
       "  </thead>\n",
       "  <tbody>\n",
       "    <tr>\n",
       "      <th>48321</th>\n",
       "      <td>2020</td>\n",
       "      <td>9</td>\n",
       "      <td>1</td>\n",
       "      <td>1</td>\n",
       "      <td>2</td>\n",
       "    </tr>\n",
       "    <tr>\n",
       "      <th>48324</th>\n",
       "      <td>2020</td>\n",
       "      <td>9</td>\n",
       "      <td>1</td>\n",
       "      <td>1</td>\n",
       "      <td>3</td>\n",
       "    </tr>\n",
       "    <tr>\n",
       "      <th>48327</th>\n",
       "      <td>2020</td>\n",
       "      <td>9</td>\n",
       "      <td>1</td>\n",
       "      <td>1</td>\n",
       "      <td>4</td>\n",
       "    </tr>\n",
       "    <tr>\n",
       "      <th>48330</th>\n",
       "      <td>2020</td>\n",
       "      <td>9</td>\n",
       "      <td>1</td>\n",
       "      <td>1</td>\n",
       "      <td>15</td>\n",
       "    </tr>\n",
       "    <tr>\n",
       "      <th>48333</th>\n",
       "      <td>2020</td>\n",
       "      <td>9</td>\n",
       "      <td>1</td>\n",
       "      <td>1</td>\n",
       "      <td>18</td>\n",
       "    </tr>\n",
       "  </tbody>\n",
       "</table>\n",
       "</div>"
      ],
      "text/plain": [
       "       year  month  day  weekday  hour\n",
       "48321  2020      9    1        1     2\n",
       "48324  2020      9    1        1     3\n",
       "48327  2020      9    1        1     4\n",
       "48330  2020      9    1        1    15\n",
       "48333  2020      9    1        1    18"
      ]
     },
     "execution_count": 13,
     "metadata": {},
     "output_type": "execute_result"
    }
   ],
   "source": [
    "date_encoder = FunctionTransformer(_encode_dates, validate=False)\n",
    "date_encoder.fit_transform(data[[\"date\"]]).head()"
   ]
  },
  {
   "cell_type": "code",
   "execution_count": 14,
   "id": "2f865b5f-cafd-4ba1-a24b-fe576e3a54c9",
   "metadata": {},
   "outputs": [
    {
     "data": {
      "text/plain": [
       "array([[0., 0., 1., 0., 0., 0., 0., 0., 0., 0., 0., 0., 0., 0., 0., 0.,\n",
       "        0., 0., 0., 0., 0., 0., 0., 0.],\n",
       "       [0., 0., 0., 1., 0., 0., 0., 0., 0., 0., 0., 0., 0., 0., 0., 0.,\n",
       "        0., 0., 0., 0., 0., 0., 0., 0.],\n",
       "       [0., 0., 0., 0., 1., 0., 0., 0., 0., 0., 0., 0., 0., 0., 0., 0.,\n",
       "        0., 0., 0., 0., 0., 0., 0., 0.],\n",
       "       [0., 0., 0., 0., 0., 0., 0., 0., 0., 0., 0., 0., 0., 0., 0., 1.,\n",
       "        0., 0., 0., 0., 0., 0., 0., 0.],\n",
       "       [0., 0., 0., 0., 0., 0., 0., 0., 0., 0., 0., 0., 0., 0., 0., 0.,\n",
       "        0., 0., 1., 0., 0., 0., 0., 0.]])"
      ]
     },
     "execution_count": 14,
     "metadata": {},
     "output_type": "execute_result"
    }
   ],
   "source": [
    "from sklearn.preprocessing import OneHotEncoder\n",
    "\n",
    "enc = OneHotEncoder(sparse_output=False)\n",
    "\n",
    "enc.fit_transform(_encode_dates(data[[\"date\"]])[[\"hour\"]])[:5]"
   ]
  },
  {
   "cell_type": "code",
   "execution_count": 15,
   "id": "ba4d14b7-7d6c-4df2-a9db-f0072ca7ec77",
   "metadata": {},
   "outputs": [],
   "source": [
    "import problem\n",
    "\n",
    "X_train, y_train = problem.get_train_data()\n",
    "X_test, y_test = problem.get_test_data()\n",
    "X_final = problem.get_final_test_data()"
   ]
  },
  {
   "cell_type": "code",
   "execution_count": 16,
   "id": "8d7525d7-548d-49ad-9a30-06370ccaf793",
   "metadata": {},
   "outputs": [
    {
     "data": {
      "text/html": [
       "<div>\n",
       "<style scoped>\n",
       "    .dataframe tbody tr th:only-of-type {\n",
       "        vertical-align: middle;\n",
       "    }\n",
       "\n",
       "    .dataframe tbody tr th {\n",
       "        vertical-align: top;\n",
       "    }\n",
       "\n",
       "    .dataframe thead th {\n",
       "        text-align: right;\n",
       "    }\n",
       "</style>\n",
       "<table border=\"1\" class=\"dataframe\">\n",
       "  <thead>\n",
       "    <tr style=\"text-align: right;\">\n",
       "      <th></th>\n",
       "      <th>counter_id</th>\n",
       "      <th>counter_name</th>\n",
       "      <th>site_id</th>\n",
       "      <th>site_name</th>\n",
       "      <th>date</th>\n",
       "      <th>counter_installation_date</th>\n",
       "      <th>counter_technical_id</th>\n",
       "      <th>latitude</th>\n",
       "      <th>longitude</th>\n",
       "    </tr>\n",
       "  </thead>\n",
       "  <tbody>\n",
       "    <tr>\n",
       "      <th>400125</th>\n",
       "      <td>100049407-353255860</td>\n",
       "      <td>152 boulevard du Montparnasse E-O</td>\n",
       "      <td>100049407</td>\n",
       "      <td>152 boulevard du Montparnasse</td>\n",
       "      <td>2020-09-01 01:00:00</td>\n",
       "      <td>2018-12-07</td>\n",
       "      <td>Y2H19070373</td>\n",
       "      <td>48.840801</td>\n",
       "      <td>2.333233</td>\n",
       "    </tr>\n",
       "    <tr>\n",
       "      <th>408305</th>\n",
       "      <td>100049407-353255859</td>\n",
       "      <td>152 boulevard du Montparnasse O-E</td>\n",
       "      <td>100049407</td>\n",
       "      <td>152 boulevard du Montparnasse</td>\n",
       "      <td>2020-09-01 01:00:00</td>\n",
       "      <td>2018-12-07</td>\n",
       "      <td>Y2H19070373</td>\n",
       "      <td>48.840801</td>\n",
       "      <td>2.333233</td>\n",
       "    </tr>\n",
       "    <tr>\n",
       "      <th>87516</th>\n",
       "      <td>100036719-104036719</td>\n",
       "      <td>18 quai de l'Hôtel de Ville NO-SE</td>\n",
       "      <td>100036719</td>\n",
       "      <td>18 quai de l'Hôtel de Ville</td>\n",
       "      <td>2020-09-01 01:00:00</td>\n",
       "      <td>2017-07-12</td>\n",
       "      <td>Y2H19027732</td>\n",
       "      <td>48.853720</td>\n",
       "      <td>2.357020</td>\n",
       "    </tr>\n",
       "    <tr>\n",
       "      <th>98518</th>\n",
       "      <td>100036719-103036719</td>\n",
       "      <td>18 quai de l'Hôtel de Ville SE-NO</td>\n",
       "      <td>100036719</td>\n",
       "      <td>18 quai de l'Hôtel de Ville</td>\n",
       "      <td>2020-09-01 01:00:00</td>\n",
       "      <td>2017-07-12</td>\n",
       "      <td>Y2H19027732</td>\n",
       "      <td>48.853720</td>\n",
       "      <td>2.357020</td>\n",
       "    </tr>\n",
       "    <tr>\n",
       "      <th>875137</th>\n",
       "      <td>100063175-353277233</td>\n",
       "      <td>20 Avenue de Clichy NO-SE</td>\n",
       "      <td>100063175</td>\n",
       "      <td>20 Avenue de Clichy</td>\n",
       "      <td>2020-09-01 01:00:00</td>\n",
       "      <td>2020-07-22</td>\n",
       "      <td>Y2H20073268</td>\n",
       "      <td>48.885290</td>\n",
       "      <td>2.326660</td>\n",
       "    </tr>\n",
       "  </tbody>\n",
       "</table>\n",
       "</div>"
      ],
      "text/plain": [
       "                 counter_id                       counter_name    site_id  \\\n",
       "400125  100049407-353255860  152 boulevard du Montparnasse E-O  100049407   \n",
       "408305  100049407-353255859  152 boulevard du Montparnasse O-E  100049407   \n",
       "87516   100036719-104036719  18 quai de l'Hôtel de Ville NO-SE  100036719   \n",
       "98518   100036719-103036719  18 quai de l'Hôtel de Ville SE-NO  100036719   \n",
       "875137  100063175-353277233          20 Avenue de Clichy NO-SE  100063175   \n",
       "\n",
       "                            site_name                date  \\\n",
       "400125  152 boulevard du Montparnasse 2020-09-01 01:00:00   \n",
       "408305  152 boulevard du Montparnasse 2020-09-01 01:00:00   \n",
       "87516     18 quai de l'Hôtel de Ville 2020-09-01 01:00:00   \n",
       "98518     18 quai de l'Hôtel de Ville 2020-09-01 01:00:00   \n",
       "875137            20 Avenue de Clichy 2020-09-01 01:00:00   \n",
       "\n",
       "       counter_installation_date counter_technical_id   latitude  longitude  \n",
       "400125                2018-12-07          Y2H19070373  48.840801   2.333233  \n",
       "408305                2018-12-07          Y2H19070373  48.840801   2.333233  \n",
       "87516                 2017-07-12          Y2H19027732  48.853720   2.357020  \n",
       "98518                 2017-07-12          Y2H19027732  48.853720   2.357020  \n",
       "875137                2020-07-22          Y2H20073268  48.885290   2.326660  "
      ]
     },
     "execution_count": 16,
     "metadata": {},
     "output_type": "execute_result"
    }
   ],
   "source": [
    "X_train.head()"
   ]
  },
  {
   "cell_type": "code",
   "execution_count": 17,
   "id": "611eee63-afc0-4aae-ab9d-f1c07bb8abe8",
   "metadata": {},
   "outputs": [
    {
     "data": {
      "text/plain": [
       "array([1.60943791, 1.38629436, 0.        , ..., 2.48490665, 1.60943791,\n",
       "       1.38629436])"
      ]
     },
     "execution_count": 17,
     "metadata": {},
     "output_type": "execute_result"
    }
   ],
   "source": [
    "y_train"
   ]
  },
  {
   "cell_type": "markdown",
   "id": "b4fa6954-96e6-4d14-b10e-ec08fb421f2a",
   "metadata": {},
   "source": [
    "For now we do not need to look at the longitude and the latitude, as they are basically one and the same with the `site_id`."
   ]
  },
  {
   "cell_type": "code",
   "execution_count": 18,
   "id": "27535dd8-613c-4d18-8556-f9b5ff983197",
   "metadata": {},
   "outputs": [],
   "source": [
    "def _encode_categorical(X):\n",
    "    X = X.copy()\n",
    "\n",
    "    return X.drop(columns=['site_name', 'counter_technical_id', 'counter_name','latitude', 'longitude'])"
   ]
  },
  {
   "cell_type": "code",
   "execution_count": 26,
   "id": "c20b2a26-5c8b-4404-ab6b-687463099f48",
   "metadata": {},
   "outputs": [],
   "source": [
    "def get_estimator():\n",
    "    date_encoder = FunctionTransformer(_encode_dates)\n",
    "    date_cols = [\"year\", \"month\", \"day\", \"weekday\", \"hour\"]\n",
    "\n",
    "    categorical_encoder = FunctionTransformer(_encode_categorical)\n",
    "    categorical_cols = [\"counter_id\", \"site_id\", \"counter_installation_date\"]\n",
    "\n",
    "    preprocessor = ColumnTransformer(\n",
    "        [\n",
    "            (\"date\", StandardScaler(), date_cols),\n",
    "            (\"cat\", OneHotEncoder(handle_unknown=\"ignore\"), categorical_cols),\n",
    "        ]\n",
    "    )\n",
    "    regressor = XGBRegressor(n_estimators=300, max_depth=25, eta=0.1, subsample=0.9, colsample_bytree=0.6)\n",
    "    # regressor = GradientBoostingRegressor(n_estimators=30, max_depth=25)\n",
    "    # regressor = Ridge()\n",
    "    # regressor = LinearRegression()\n",
    "\n",
    "    pipe = make_pipeline(date_encoder, categorical_encoder, preprocessor, regressor)\n",
    "\n",
    "    return pipe"
   ]
  },
  {
   "cell_type": "code",
   "execution_count": 27,
   "id": "4fa5bb32-4ba6-432a-9362-836de5ad25f2",
   "metadata": {},
   "outputs": [
    {
     "name": "stdout",
     "output_type": "stream",
     "text": [
      "Test set, RMSE=0.46\n"
     ]
    }
   ],
   "source": [
    "pipe = get_estimator()\n",
    "pipe.fit(X_train, y_train)\n",
    "y_pred = pipe.predict(X_final)\n",
    "\n",
    "print(f\"Test set, RMSE={mean_squared_error(y_test, pipe.predict(X_test), squared=False):.2f}\")"
   ]
  },
  {
   "cell_type": "code",
   "execution_count": 28,
   "id": "263908e2-2c3c-4317-84f8-a3a908042cb6",
   "metadata": {},
   "outputs": [
    {
     "name": "stdout",
     "output_type": "stream",
     "text": [
      "RMSE:  [-0.81766997 -1.09084528 -0.71958635 -0.79814608 -0.73148663 -0.77044307]\n",
      "RMSE (all folds): 0.821 ± 0.125\n"
     ]
    }
   ],
   "source": [
    "cv = TimeSeriesSplit(n_splits=6)\n",
    "\n",
    "scores = cross_val_score(\n",
    "    pipe, X_train, y_train, cv=cv, scoring=\"neg_root_mean_squared_error\"\n",
    ")\n",
    "print(\"RMSE: \", scores)\n",
    "print(f\"RMSE (all folds): {-scores.mean():.3} ± {(-scores).std():.3}\")"
   ]
  },
  {
   "cell_type": "markdown",
   "id": "0b6151c1-0749-448b-b729-d63c3e28feae",
   "metadata": {},
   "source": [
    "That is our performance without any additional information added. Therefore, if we do some more feature engineering and add for example whether the day it was tested in is a holiday, a week-end, etc..."
   ]
  },
  {
   "cell_type": "code",
   "execution_count": 29,
   "id": "e5d54c36-76f5-43a7-9357-8a6a0687cb56",
   "metadata": {},
   "outputs": [],
   "source": [
    "results = pd.DataFrame(\n",
    "    dict(\n",
    "        Id=np.arange(y_pred.shape[0]),\n",
    "        log_bike_count=y_pred,\n",
    "    )\n",
    ")\n",
    "\n",
    "results.to_csv(\"submission.csv\", index=False)"
   ]
  },
  {
   "cell_type": "code",
   "execution_count": null,
   "id": "36486879-9054-4b0f-a034-274bcf1857c0",
   "metadata": {},
   "outputs": [],
   "source": []
  }
 ],
 "metadata": {
  "kernelspec": {
   "display_name": "Python 3 (ipykernel)",
   "language": "python",
   "name": "python3"
  },
  "language_info": {
   "codemirror_mode": {
    "name": "ipython",
    "version": 3
   },
   "file_extension": ".py",
   "mimetype": "text/x-python",
   "name": "python",
   "nbconvert_exporter": "python",
   "pygments_lexer": "ipython3",
   "version": "3.10.13"
  }
 },
 "nbformat": 4,
 "nbformat_minor": 5
}
